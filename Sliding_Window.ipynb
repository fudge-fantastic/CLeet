{
 "cells": [
  {
   "cell_type": "markdown",
   "metadata": {},
   "source": [
    "## Sliding Windows (typically involves problems on subarrays)"
   ]
  },
  {
   "cell_type": "markdown",
   "metadata": {},
   "source": [
    "You are given an array prices where prices[i] is the price of a given stock on the ith day.\n",
    "\n",
    "You want to maximize your profit by choosing a single day to buy one stock and choosing a different day in the future to sell that stock.\n",
    "\n",
    "Return the maximum profit you can achieve from this transaction. If you cannot achieve any profit, return 0.\n",
    "\n",
    "```\n",
    "Example 1:\n",
    "Input: prices = [7,1,5,3,6,4]\n",
    "Output: 5\n",
    "Explanation: Buy on day 2 (price = 1) and sell on day 5 (price = 6), profit = 6-1 = 5.\n",
    "Note that buying on day 2 and selling on day 1 is not allowed because you must buy before you sell.\n",
    "\n",
    "Example 2:\n",
    "Input: prices = [7,6,4,3,1]\n",
    "Output: 0\n",
    "Explanation: In this case, no transactions are done and the max profit = 0.\n",
    "```"
   ]
  },
  {
   "cell_type": "code",
   "execution_count": 4,
   "metadata": {},
   "outputs": [
    {
     "name": "stdout",
     "output_type": "stream",
     "text": [
      "5 0\n",
      "5 0\n"
     ]
    }
   ],
   "source": [
    "prices = [7,1,5,3,6,4]\n",
    "\n",
    "def maxprofit(prices):\n",
    "    profit = 0\n",
    "    l = 0\n",
    "    for r in range(1, len(prices)):\n",
    "        if prices[r] < prices[l]:\n",
    "            l = r\n",
    "        profit = max(profit, prices[r] - prices[l])\n",
    "    return profit\n",
    "\n",
    "print(maxprofit(prices), maxprofit(prices = [7,6,4,3,1]))\n",
    "\n",
    "\n",
    "def maxprofit2(prices):\n",
    "    maxprofit, min_price = 0, float('inf')\n",
    "    for i in prices:\n",
    "        if i < min_price:\n",
    "            min_price = i\n",
    "        elif i - min_price > maxprofit:\n",
    "            maxprofit = i\n",
    "    return maxprofit\n",
    "\n",
    "print(maxprofit2(prices), maxprofit2(prices = [7,6,4,3,1]))"
   ]
  },
  {
   "cell_type": "code",
   "execution_count": 13,
   "metadata": {},
   "outputs": [
    {
     "data": {
      "text/plain": [
       "3"
      ]
     },
     "execution_count": 13,
     "metadata": {},
     "output_type": "execute_result"
    }
   ],
   "source": [
    "s = \"abcabcbb\"\n",
    "\n",
    "def longest_substring(s):\n",
    "    left = 0 \n",
    "    char_set = set()\n",
    "    res = 0\n",
    "\n",
    "    for right in range(len(s)):\n",
    "        # Skips first three iterations as no repeating chars are observed\n",
    "        while s[right] in char_set:\n",
    "            char_set.remove(s[left])\n",
    "            left += 1\n",
    "        char_set.add(s[right])\n",
    "        res = max(res, right - left + 1)\n",
    "    return res    \n",
    "\n",
    "longest_substring(s)"
   ]
  },
  {
   "cell_type": "code",
   "execution_count": null,
   "metadata": {},
   "outputs": [],
   "source": []
  }
 ],
 "metadata": {
  "kernelspec": {
   "display_name": "venv",
   "language": "python",
   "name": "python3"
  },
  "language_info": {
   "codemirror_mode": {
    "name": "ipython",
    "version": 3
   },
   "file_extension": ".py",
   "mimetype": "text/x-python",
   "name": "python",
   "nbconvert_exporter": "python",
   "pygments_lexer": "ipython3",
   "version": "3.11.8"
  }
 },
 "nbformat": 4,
 "nbformat_minor": 2
}
