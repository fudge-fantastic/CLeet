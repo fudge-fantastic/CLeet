{
 "cells": [
  {
   "cell_type": "markdown",
   "metadata": {},
   "source": [
    "A phrase is a palindrome if, after converting all uppercase letters into lowercase letters and removing all non-alphanumeric characters, it reads the same forward and backward. Alphanumeric characters include letters and numbers.\n",
    "\n",
    "Given a string s, return true if it is a palindrome, or false otherwise."
   ]
  },
  {
   "cell_type": "code",
   "execution_count": 6,
   "metadata": {},
   "outputs": [
    {
     "name": "stdout",
     "output_type": "stream",
     "text": [
      "amanaplanacanalpanama\n",
      "Yes, it's a palindrome\n"
     ]
    }
   ],
   "source": [
    "s = \"A man, a plan, a canal: Panama\"\n",
    "string = \"\"\n",
    "\n",
    "for i in s:\n",
    "    if i.isalnum():\n",
    "        string += i.lower()\n",
    "\n",
    "print(string)\n",
    "if string[::-1] == string:\n",
    "    print(\"Yes, it's a palindrome\")"
   ]
  },
  {
   "cell_type": "code",
   "execution_count": 7,
   "metadata": {},
   "outputs": [
    {
     "name": "stdout",
     "output_type": "stream",
     "text": [
      "True\n",
      "True\n",
      "False\n"
     ]
    }
   ],
   "source": [
    "def isPalindrome(string):\n",
    "    s = \"\"\n",
    "    for i in string:\n",
    "        if i.isalnum():\n",
    "            s += i.lower()\n",
    "    return s[::-1] == s\n",
    "\n",
    "print(isPalindrome(s))\n",
    "print(isPalindrome(\"boob\"))\n",
    "print(isPalindrome(\"lazy\"))"
   ]
  },
  {
   "cell_type": "markdown",
   "metadata": {},
   "source": [
    "Given a 1-indexed array of integers numbers that is already sorted in non-decreasing order, find two numbers such that they add up to a specific target number. Let these two numbers be numbers[index1] and numbers[index2] where 1 <= index1 < index2 <= numbers.length.\n",
    "\n",
    "Return the indices of the two numbers, index1 and index2, added by one as an integer array [index1, index2] of length 2.\n",
    "\n",
    "The tests are generated such that there is exactly one solution. You may not use the same element twice.\n",
    "\n",
    "Your solution must use only constant extra space."
   ]
  },
  {
   "cell_type": "code",
   "execution_count": 8,
   "metadata": {},
   "outputs": [
    {
     "name": "stdout",
     "output_type": "stream",
     "text": [
      "[1, 3]\n",
      "[1, 2]\n"
     ]
    }
   ],
   "source": [
    "numbers = [2,7,11,15]; target = 9\n",
    "# Output: [1,2]\n",
    "\n",
    "def TwoSum(numbers, target):\n",
    "    left, right = 0, len(numbers) - 1\n",
    "    while left < right:\n",
    "        current_sum = numbers[left] + numbers[right]\n",
    "        if current_sum > target: right -= 1\n",
    "        elif current_sum < target: left += 1\n",
    "        else: \n",
    "            return [left + 1, right + 1]\n",
    "    return []\n",
    "\n",
    "print(TwoSum(numbers, 13))\n",
    "print(TwoSum(numbers, 9))"
   ]
  },
  {
   "cell_type": "markdown",
   "metadata": {},
   "source": [
    "Given an integer array nums, return all the triplets [nums[i], nums[j], nums[k]] such that i != j, i != k, and j != k, and nums[i] + nums[j] + nums[k] == 0.\n",
    "\n",
    "__Notice that the solution set must not contain duplicate triplets.__\n",
    "\n",
    "nums[0] + nums[1] + nums[2] = (-1) + 0 + 1 = 0. <br>\n",
    "nums[1] + nums[2] + nums[4] = 0 + 1 + (-1) = 0. <br>\n",
    "nums[0] + nums[3] + nums[4] = (-1) + 2 + (-1) = 0. <br>\n",
    "The distinct triplets are [-1,0,1] and [-1,-1,2]. <br><br>\n",
    "__Also, the order of the output and the order of the triplets does not matter.__"
   ]
  },
  {
   "cell_type": "code",
   "execution_count": 9,
   "metadata": {},
   "outputs": [
    {
     "name": "stdout",
     "output_type": "stream",
     "text": [
      "nums sorted: [-4, -1, -1, 0, 1, 2]\n",
      "\n",
      "[[-1, -1, 2], [-1, 0, 1]]\n"
     ]
    }
   ],
   "source": [
    "nums = [-1,0,1,2,-1,-4]\n",
    "# Output: [[-1,-1,2],[-1,0,1]]\n",
    "\n",
    "result = []\n",
    "nums.sort()\n",
    "print(f\"nums sorted: {nums}\\n\")\n",
    "for index, number in enumerate(nums):\n",
    "    # If positives, break. Because adding any positives won't result in 0, but > 0\n",
    "    if number > 0: break\n",
    "    # If the previous number is duplicate, skip.\n",
    "    if index > 0 and number == nums[index -1]: continue\n",
    "\n",
    "    left, right = index + 1, len(nums) - 1\n",
    "    while left < right:\n",
    "        # number: current number, consider -4\n",
    "        # nums[left]: -1\n",
    "        # nums[right]: 2\n",
    "        # total = -3\n",
    "        # total should be 0\n",
    "        total = number + nums[left] + nums[right]\n",
    "        if total > 0: right -= 1\n",
    "        elif total < 0: left += 1\n",
    "        elif total == 0:\n",
    "            result.append([number, nums[left], nums[right]])\n",
    "            left += 1; right -= 1\n",
    "            # Skipping duplicates from the triplets\n",
    "            while nums[left] == nums[left - 1] and left < right:\n",
    "                left += 1\n",
    "\n",
    "print(result)"
   ]
  },
  {
   "cell_type": "code",
   "execution_count": 10,
   "metadata": {},
   "outputs": [
    {
     "data": {
      "text/plain": [
       "[[-1, -1, 2], [-1, 0, 1]]"
      ]
     },
     "execution_count": 10,
     "metadata": {},
     "output_type": "execute_result"
    }
   ],
   "source": [
    "def threeSum(nums):\n",
    "    result = []\n",
    "    nums.sort()\n",
    "    \n",
    "    for index, number in enumerate(nums):\n",
    "        if number > 0: break\n",
    "        if index > 0 and number == nums[index -1]: continue\n",
    "\n",
    "        left, right = index + 1, len(nums) - 1\n",
    "        while left < right:\n",
    "            total  = number + nums[left] + nums[right]\n",
    "            if total < 0: left += 1\n",
    "            elif total > 0: right -= 1\n",
    "            else:\n",
    "                result.append([number, nums[left], nums[right]])\n",
    "                left += 1; right -= 1\n",
    "                while nums[left] == nums[left - 1] and left < right:\n",
    "                    left += 1\n",
    "    return result\n",
    "\n",
    "threeSum(nums)"
   ]
  },
  {
   "attachments": {
    "image.png": {
     "image/png": "[encoded data removed]"
    }
   },
   "cell_type": "markdown",
   "metadata": {},
   "source": [
    "You are given an integer array height of length n. There are n vertical lines drawn such that the two endpoints of the ith line are (i, 0) and (i, height[i]).\n",
    "\n",
    "Find two lines that together with the x-axis form a container, such that the container contains the most water. Return the maximum amount of water a container can store. __Notice that you may not slant the container.__\n",
    "\n",
    "![image.png](attachment:image.png)"
   ]
  },
  {
   "cell_type": "code",
   "execution_count": 13,
   "metadata": {},
   "outputs": [
    {
     "name": "stdout",
     "output_type": "stream",
     "text": [
      "49\n"
     ]
    }
   ],
   "source": [
    "height = [1,8,6,2,5,4,8,3,7]\n",
    "\n",
    "result = 0\n",
    "# len(height) is out of range here, tf, it's len(height) - 1\n",
    "left, right = 0, len(height) - 1\n",
    "\n",
    "while left < right:\n",
    "    width = right - left\n",
    "    area = min(height[left], height[right])\n",
    "    result = max(result, area * width)\n",
    "    if height[left] < height[right]:\n",
    "        left += 1\n",
    "    elif height[left] > height[right]:\n",
    "        right -= 1\n",
    "    elif height[left] == height[right]:\n",
    "        left += 1\n",
    "        \n",
    "print(result)"
   ]
  },
  {
   "cell_type": "code",
   "execution_count": 12,
   "metadata": {},
   "outputs": [
    {
     "data": {
      "text/plain": [
       "49"
      ]
     },
     "execution_count": 12,
     "metadata": {},
     "output_type": "execute_result"
    }
   ],
   "source": [
    "def maxContainer(height):\n",
    "    result = 0\n",
    "    left, right = 0, len(height) - 1\n",
    "    while left < right:\n",
    "        result = max(result, min(height[left], height[right]) * (right - left))\n",
    "        if height[left] > height[right]: right -= 1\n",
    "        elif height[left] < height[right]: left += 1\n",
    "        else: left += 1\n",
    "    return result\n",
    "\n",
    "maxContainer(height=height)"
   ]
  },
  {
   "attachments": {
    "image.png": {
     "image/png": "[encoded data removed]"
    }
   },
   "cell_type": "markdown",
   "metadata": {},
   "source": [
    "Given n non-negative integers representing an elevation map where the width of each bar is 1, compute how much water it can trap after raining.<br>\n",
    "![image.png](attachment:image.png)\n",
    "\n",
    "Input: height = [0,1,0,2,1,0,1,3,2,1,2,1] <br>\n",
    "Output: 6 <br>\n",
    "Explanation: The above elevation map (black section) is represented by array [0,1,0,2,1,0,1,3,2,1,2,1]. In this case, 6 units of rain water (blue section) are being trapped."
   ]
  },
  {
   "cell_type": "code",
   "execution_count": 34,
   "metadata": {},
   "outputs": [
    {
     "name": "stdout",
     "output_type": "stream",
     "text": [
      "Initial leftMax: 0, rightMax: 1\n",
      "\n",
      "\n",
      "Current blocks: [0, 1, 0, 2, 1, 0, 1, 3, 2, 1, 2, 1]\n",
      "Comparing leftMax and rightMax: 0 < 1\n",
      "Current left index: 0\n",
      "Incrementing left index: 1\n",
      "Previous leftMax: 0, Current block height at left: 1\n",
      "Updating leftMax to the maximum of previous leftMax and current block height: 1\n",
      "Adding water trapped at this position to water_count: 0\n",
      "\n",
      "\n",
      "Current blocks: [0, 1, 0, 2, 1, 0, 1, 3, 2, 1, 2, 1]\n",
      "Comparing leftMax and rightMax: 1 >= 1\n",
      "Current right index: 11\n",
      "Decrementing right index: 10\n",
      "Previous rightMax: 1, Current block height at right: 2\n",
      "Updating rightMax to the maximum of previous rightMax and current block height: 2\n",
      "Adding water trapped at this position to water_count: 0\n",
      "\n",
      "\n",
      "Current blocks: [0, 1, 0, 2, 1, 0, 1, 3, 2, 1, 2, 1]\n",
      "Comparing leftMax and rightMax: 1 < 2\n",
      "Current left index: 1\n",
      "Incrementing left index: 2\n",
      "Previous leftMax: 1, Current block height at left: 0\n",
      "Updating leftMax to the maximum of previous leftMax and current block height: 1\n",
      "Adding water trapped at this position to water_count: 1\n",
      "\n",
      "\n",
      "Current blocks: [0, 1, 0, 2, 1, 0, 1, 3, 2, 1, 2, 1]\n",
      "Comparing leftMax and rightMax: 1 < 2\n",
      "Current left index: 2\n",
      "Incrementing left index: 3\n",
      "Previous leftMax: 1, Current block height at left: 2\n",
      "Updating leftMax to the maximum of previous leftMax and current block height: 2\n",
      "Adding water trapped at this position to water_count: 1\n",
      "\n",
      "\n",
      "Current blocks: [0, 1, 0, 2, 1, 0, 1, 3, 2, 1, 2, 1]\n",
      "Comparing leftMax and rightMax: 2 >= 2\n",
      "Current right index: 10\n",
      "Decrementing right index: 9\n",
      "Previous rightMax: 2, Current block height at right: 1\n",
      "Updating rightMax to the maximum of previous rightMax and current block height: 2\n",
      "Adding water trapped at this position to water_count: 2\n",
      "\n",
      "\n",
      "Current blocks: [0, 1, 0, 2, 1, 0, 1, 3, 2, 1, 2, 1]\n",
      "Comparing leftMax and rightMax: 2 >= 2\n",
      "Current right index: 9\n",
      "Decrementing right index: 8\n",
      "Previous rightMax: 2, Current block height at right: 2\n",
      "Updating rightMax to the maximum of previous rightMax and current block height: 2\n",
      "Adding water trapped at this position to water_count: 2\n",
      "\n",
      "\n",
      "Current blocks: [0, 1, 0, 2, 1, 0, 1, 3, 2, 1, 2, 1]\n",
      "Comparing leftMax and rightMax: 2 >= 2\n",
      "Current right index: 8\n",
      "Decrementing right index: 7\n",
      "Previous rightMax: 2, Current block height at right: 3\n",
      "Updating rightMax to the maximum of previous rightMax and current block height: 3\n",
      "Adding water trapped at this position to water_count: 2\n",
      "\n",
      "\n",
      "Current blocks: [0, 1, 0, 2, 1, 0, 1, 3, 2, 1, 2, 1]\n",
      "Comparing leftMax and rightMax: 2 < 3\n",
      "Current left index: 3\n",
      "Incrementing left index: 4\n",
      "Previous leftMax: 2, Current block height at left: 1\n",
      "Updating leftMax to the maximum of previous leftMax and current block height: 2\n",
      "Adding water trapped at this position to water_count: 3\n",
      "\n",
      "\n",
      "Current blocks: [0, 1, 0, 2, 1, 0, 1, 3, 2, 1, 2, 1]\n",
      "Comparing leftMax and rightMax: 2 < 3\n",
      "Current left index: 4\n",
      "Incrementing left index: 5\n",
      "Previous leftMax: 2, Current block height at left: 0\n",
      "Updating leftMax to the maximum of previous leftMax and current block height: 2\n",
      "Adding water trapped at this position to water_count: 5\n",
      "\n",
      "\n",
      "Current blocks: [0, 1, 0, 2, 1, 0, 1, 3, 2, 1, 2, 1]\n",
      "Comparing leftMax and rightMax: 2 < 3\n",
      "Current left index: 5\n",
      "Incrementing left index: 6\n",
      "Previous leftMax: 2, Current block height at left: 1\n",
      "Updating leftMax to the maximum of previous leftMax and current block height: 2\n",
      "Adding water trapped at this position to water_count: 6\n",
      "\n",
      "\n",
      "Current blocks: [0, 1, 0, 2, 1, 0, 1, 3, 2, 1, 2, 1]\n",
      "Comparing leftMax and rightMax: 2 < 3\n",
      "Current left index: 6\n",
      "Incrementing left index: 7\n",
      "Previous leftMax: 2, Current block height at left: 3\n",
      "Updating leftMax to the maximum of previous leftMax and current block height: 3\n",
      "Adding water trapped at this position to water_count: 6\n",
      "\n",
      "\n",
      "Total Water Count: 6\n"
     ]
    }
   ],
   "source": [
    "blocks = [0, 1, 0, 2, 1, 0, 1, 3, 2, 1, 2, 1]\n",
    "\n",
    "left, right = 0, len(blocks) - 1\n",
    "leftMax, rightMax = blocks[left], blocks[right] \n",
    "water_count = 0\n",
    "\n",
    "print(f\"Initial leftMax: {leftMax}, rightMax: {rightMax}\")\n",
    "print(\"\\n\")\n",
    "\n",
    "while left < right:\n",
    "    if leftMax < rightMax:\n",
    "        print(f\"Current blocks: {blocks}\")\n",
    "        print(f\"Comparing leftMax and rightMax: {leftMax} < {rightMax}\")\n",
    "        print(f\"Current left index: {left}\")\n",
    "        left += 1\n",
    "        print(f\"Incrementing left index: {left}\")\n",
    "        print(f\"Previous leftMax: {leftMax}, Current block height at left: {blocks[left]}\")\n",
    "        leftMax = max(leftMax, blocks[left])\n",
    "        print(f\"Updating leftMax to the maximum of previous leftMax and current block height: {leftMax}\")\n",
    "        water_count += leftMax - blocks[left]\n",
    "        print(f\"Adding water trapped at this position to water_count: {water_count}\")\n",
    "        print(\"\\n\")\n",
    "    else:\n",
    "        print(f\"Current blocks: {blocks}\")\n",
    "        print(f\"Comparing leftMax and rightMax: {leftMax} >= {rightMax}\")\n",
    "        print(f\"Current right index: {right}\")\n",
    "        right -= 1\n",
    "        print(f\"Decrementing right index: {right}\")\n",
    "        print(f\"Previous rightMax: {rightMax}, Current block height at right: {blocks[right]}\")\n",
    "        rightMax = max(rightMax, blocks[right])\n",
    "        print(f\"Updating rightMax to the maximum of previous rightMax and current block height: {rightMax}\")\n",
    "        water_count += rightMax - blocks[right]\n",
    "        print(f\"Adding water trapped at this position to water_count: {water_count}\")\n",
    "        print(\"\\n\")\n",
    "\n",
    "print(f\"Total Water Count: {water_count}\")"
   ]
  },
  {
   "attachments": {
    "image.png": {
     "image/png": "[encoded data removed]"
    }
   },
   "cell_type": "markdown",
   "metadata": {},
   "source": [
    "![image.png](attachment:image.png)"
   ]
  },
  {
   "cell_type": "code",
   "execution_count": 35,
   "metadata": {},
   "outputs": [
    {
     "data": {
      "text/plain": [
       "9"
      ]
     },
     "execution_count": 35,
     "metadata": {},
     "output_type": "execute_result"
    }
   ],
   "source": [
    "def trapWater(blocks):\n",
    "    left, right = 0, len(blocks) -1 \n",
    "    leftMax, rightMax = blocks[left], blocks[right]\n",
    "    water_count = 0\n",
    "    \n",
    "    while left < right:\n",
    "        if leftMax < rightMax:\n",
    "            left += 1\n",
    "            leftMax = max(leftMax, blocks[left])\n",
    "            water_count += leftMax - blocks[left]\n",
    "        else:\n",
    "            right -= 1\n",
    "            rightMax = max(rightMax, blocks[right])\n",
    "            water_count += rightMax - blocks[right]\n",
    "\n",
    "    return water_count\n",
    "\n",
    "trapWater(blocks=[4,2,0,3,2,5])"
   ]
  },
  {
   "cell_type": "code",
   "execution_count": null,
   "metadata": {},
   "outputs": [],
   "source": []
  }
 ],
 "metadata": {
  "kernelspec": {
   "display_name": "Python 3",
   "language": "python",
   "name": "python3"
  },
  "language_info": {
   "codemirror_mode": {
    "name": "ipython",
    "version": 3
   },
   "file_extension": ".py",
   "mimetype": "text/x-python",
   "name": "python",
   "nbconvert_exporter": "python",
   "pygments_lexer": "ipython3",
   "version": "3.11.8"
  }
 },
 "nbformat": 4,
 "nbformat_minor": 2
}
