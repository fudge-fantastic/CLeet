{
 "cells": [
  {
   "cell_type": "markdown",
   "metadata": {},
   "source": [
    "A phrase is a palindrome if, after converting all uppercase letters into lowercase letters and removing all non-alphanumeric characters, it reads the same forward and backward. Alphanumeric characters include letters and numbers.\n",
    "\n",
    "Given a string s, return true if it is a palindrome, or false otherwise."
   ]
  },
  {
   "cell_type": "code",
   "execution_count": 3,
   "metadata": {},
   "outputs": [
    {
     "name": "stdout",
     "output_type": "stream",
     "text": [
      "amanaplanacanalpanama\n",
      "Yes, it's a palindrome\n"
     ]
    }
   ],
   "source": [
    "s = \"A man, a plan, a canal: Panama\"\n",
    "string = \"\"\n",
    "\n",
    "for i in s:\n",
    "    if i.isalnum():\n",
    "        string += i.lower()\n",
    "\n",
    "print(string)\n",
    "if string[::-1] == string:\n",
    "    print(\"Yes, it's a palindrome\")"
   ]
  },
  {
   "cell_type": "code",
   "execution_count": 8,
   "metadata": {},
   "outputs": [
    {
     "name": "stdout",
     "output_type": "stream",
     "text": [
      "True\n",
      "True\n",
      "False\n"
     ]
    }
   ],
   "source": [
    "def isPalindrome(string):\n",
    "    s = \"\"\n",
    "    for i in string:\n",
    "        if i.isalnum():\n",
    "            s += i.lower()\n",
    "    return s[::-1] == s\n",
    "\n",
    "print(isPalindrome(s))\n",
    "print(isPalindrome(\"boob\"))\n",
    "print(isPalindrome(\"lazy\"))"
   ]
  },
  {
   "cell_type": "markdown",
   "metadata": {},
   "source": [
    "Given a 1-indexed array of integers numbers that is already sorted in non-decreasing order, find two numbers such that they add up to a specific target number. Let these two numbers be numbers[index1] and numbers[index2] where 1 <= index1 < index2 <= numbers.length.\n",
    "\n",
    "Return the indices of the two numbers, index1 and index2, added by one as an integer array [index1, index2] of length 2.\n",
    "\n",
    "The tests are generated such that there is exactly one solution. You may not use the same element twice.\n",
    "\n",
    "Your solution must use only constant extra space."
   ]
  },
  {
   "cell_type": "code",
   "execution_count": 16,
   "metadata": {},
   "outputs": [
    {
     "name": "stdout",
     "output_type": "stream",
     "text": [
      "[1, 3]\n",
      "[1, 2]\n"
     ]
    }
   ],
   "source": [
    "numbers = [2,7,11,15]; target = 9\n",
    "# Output: [1,2]\n",
    "\n",
    "def TwoSum(numbers, target):\n",
    "    left, right = 0, len(numbers) - 1\n",
    "    while left < right:\n",
    "        current_sum = numbers[left] + numbers[right]\n",
    "        if current_sum > target: right -= 1\n",
    "        elif current_sum < target: left += 1\n",
    "        else: \n",
    "            return [left + 1, right + 1]\n",
    "    return []\n",
    "\n",
    "print(TwoSum(numbers, 13))\n",
    "print(TwoSum(numbers, 9))"
   ]
  },
  {
   "cell_type": "markdown",
   "metadata": {},
   "source": [
    "Given an integer array nums, return all the triplets [nums[i], nums[j], nums[k]] such that i != j, i != k, and j != k, and nums[i] + nums[j] + nums[k] == 0.\n",
    "\n",
    "__Notice that the solution set must not contain duplicate triplets.__\n",
    "\n",
    "nums[0] + nums[1] + nums[2] = (-1) + 0 + 1 = 0. <br>\n",
    "nums[1] + nums[2] + nums[4] = 0 + 1 + (-1) = 0. <br>\n",
    "nums[0] + nums[3] + nums[4] = (-1) + 2 + (-1) = 0. <br>\n",
    "The distinct triplets are [-1,0,1] and [-1,-1,2]. <br><br>\n",
    "__Also, the order of the output and the order of the triplets does not matter.__"
   ]
  },
  {
   "cell_type": "code",
   "execution_count": 29,
   "metadata": {},
   "outputs": [
    {
     "name": "stdout",
     "output_type": "stream",
     "text": [
      "nums sorted: [-4, -1, -1, 0, 1, 2]\n",
      "\n",
      "[[-1, -1, 2], [-1, 0, 1]]\n"
     ]
    }
   ],
   "source": [
    "nums = [-1,0,1,2,-1,-4]\n",
    "# Output: [[-1,-1,2],[-1,0,1]]\n",
    "\n",
    "result = []\n",
    "nums.sort()\n",
    "print(f\"nums sorted: {nums}\\n\")\n",
    "for index, number in enumerate(nums):\n",
    "    # If positives, break. Because adding any positives won't result in 0, but > 0\n",
    "    if number > 0: break\n",
    "    # If the previous number is duplicate, skip.\n",
    "    if index > 0 and number == nums[index -1]: continue\n",
    "\n",
    "    left, right = index + 1, len(nums) - 1\n",
    "    while left < right:\n",
    "        # number: current number, consider -4\n",
    "        # nums[left]: -1\n",
    "        # nums[right]: 2\n",
    "        # total = -3\n",
    "        # total should be 0\n",
    "        total = number + nums[left] + nums[right]\n",
    "        if total > 0: right -= 1\n",
    "        elif total < 0: left += 1\n",
    "        elif total == 0:\n",
    "            result.append([number, nums[left], nums[right]])\n",
    "            left += 1; right -= 1\n",
    "            # Skipping duplicates from the triplets\n",
    "            while nums[left] == nums[left - 1] and left < right:\n",
    "                left += 1\n",
    "\n",
    "print(result)"
   ]
  },
  {
   "cell_type": "code",
   "execution_count": 31,
   "metadata": {},
   "outputs": [
    {
     "data": {
      "text/plain": [
       "[[-1, -1, 2], [-1, 0, 1]]"
      ]
     },
     "execution_count": 31,
     "metadata": {},
     "output_type": "execute_result"
    }
   ],
   "source": [
    "def threeSum(nums):\n",
    "    result = []\n",
    "    nums.sort()\n",
    "    \n",
    "    for index, number in enumerate(nums):\n",
    "        if number > 0: break\n",
    "        if index > 0 and number == nums[index -1]: continue\n",
    "\n",
    "        left, right = index + 1, len(nums) - 1\n",
    "        while left < right:\n",
    "            total  = number + nums[left] + nums[right]\n",
    "            if total < 0: left += 1\n",
    "            elif total > 0: right -= 1\n",
    "            else:\n",
    "                result.append([number, nums[left], nums[right]])\n",
    "                left += 1; right -= 1\n",
    "                while nums[left] == nums[left - 1] and left < right:\n",
    "                    left += 1\n",
    "    return result\n",
    "\n",
    "threeSum(nums)"
   ]
  },
  {
   "cell_type": "code",
   "execution_count": null,
   "metadata": {},
   "outputs": [],
   "source": []
  }
 ],
 "metadata": {
  "kernelspec": {
   "display_name": "Python 3",
   "language": "python",
   "name": "python3"
  },
  "language_info": {
   "codemirror_mode": {
    "name": "ipython",
    "version": 3
   },
   "file_extension": ".py",
   "mimetype": "text/x-python",
   "name": "python",
   "nbconvert_exporter": "python",
   "pygments_lexer": "ipython3",
   "version": "3.12.3"
  }
 },
 "nbformat": 4,
 "nbformat_minor": 2
}
