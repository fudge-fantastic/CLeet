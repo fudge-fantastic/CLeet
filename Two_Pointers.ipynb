{
 "cells": [
  {
   "cell_type": "markdown",
   "metadata": {},
   "source": [
    "### If Palindrome\n",
    "A phrase is a palindrome if, after converting all uppercase letters into lowercase letters and removing all non-alphanumeric characters, it reads the same forward and backward. Alphanumeric characters include letters and numbers.\n",
    "\n",
    "Given a string s, return true if it is a palindrome, or false otherwise."
   ]
  },
  {
   "cell_type": "code",
   "execution_count": 10,
   "metadata": {},
   "outputs": [
    {
     "name": "stdout",
     "output_type": "stream",
     "text": [
      "bat tab\n"
     ]
    }
   ],
   "source": [
    "import string\n",
    "\n",
    "test = \"bat, tab\"\n",
    "lst = []\n",
    "# string = ''.join(sorted(string)) ---> [ ,aabbtt]\n",
    "\n",
    "punc = string.punctuation\n",
    "updated = test.translate(str.maketrans(\"\", \"\", punc))\n",
    "print(updated)"
   ]
  },
  {
   "cell_type": "code",
   "execution_count": 11,
   "metadata": {},
   "outputs": [
    {
     "data": {
      "text/plain": [
       "True"
      ]
     },
     "execution_count": 11,
     "metadata": {},
     "output_type": "execute_result"
    }
   ],
   "source": [
    "def ispalindrome(s):\n",
    "    string = \"\"\n",
    "    for char in s:\n",
    "        if char.isalnum():\n",
    "            string += char.lower()\n",
    "    return string == string[::-1]\n",
    "\n",
    "ispalindrome(test)"
   ]
  },
  {
   "cell_type": "markdown",
   "metadata": {},
   "source": [
    "### Two Sum II - Input Array Is Sorted\n",
    "Given a 1-indexed array of integers numbers that is already sorted in non-decreasing order, find two numbers such that they add up to a specific target number. <br>\n",
    "Let these two numbers be numbers[index1] and numbers[index2] where 1 <= index1 < index2 <= numbers.length.\n",
    "\n",
    "Return the indices of the two numbers, index1 and index2, added by one as an integer array [index1, index2] of length 2.\n",
    "The tests are generated such that there is exactly one solution. You may not use the same element twice.\n",
    "Your solution must use only constant extra space.\n",
    "\n",
    "Input: numbers = [2,7,11,15], target = 9 <br>\n",
    "Output: [1,2] <br>\n",
    "Explanation: The sum of 2 and 7 is 9. Therefore, index1 = 1, index2 = 2. We return [1, 2]."
   ]
  },
  {
   "cell_type": "code",
   "execution_count": 26,
   "metadata": {},
   "outputs": [
    {
     "name": "stdout",
     "output_type": "stream",
     "text": [
      "[8, 9]\n",
      "[1, 2]\n"
     ]
    }
   ],
   "source": [
    "from typing import List\n",
    "def two_sum_sorted(lst: List[int], target: int):\n",
    "    left, right  = 0, len(lst) - 1\n",
    "    while left < right:\n",
    "        current_sum = lst[left] + lst[right]\n",
    "        if current_sum > target: right -= 1\n",
    "        elif current_sum < target: left += 1\n",
    "        else: return [left + 1, right + 1]\n",
    "    return []\n",
    "\n",
    "lst = [1,2,3,4,5,6,7,8,9]\n",
    "print(two_sum_sorted(lst, 17))\n",
    "\n",
    "numbers = [2,7,11,15]; target = 9\n",
    "print(two_sum_sorted(numbers, target))"
   ]
  }
 ],
 "metadata": {
  "kernelspec": {
   "display_name": "Python 3",
   "language": "python",
   "name": "python3"
  },
  "language_info": {
   "codemirror_mode": {
    "name": "ipython",
    "version": 3
   },
   "file_extension": ".py",
   "mimetype": "text/x-python",
   "name": "python",
   "nbconvert_exporter": "python",
   "pygments_lexer": "ipython3",
   "version": "3.11.8"
  }
 },
 "nbformat": 4,
 "nbformat_minor": 2
}
