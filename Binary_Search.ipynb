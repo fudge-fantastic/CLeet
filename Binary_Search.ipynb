{
 "cells": [
  {
   "cell_type": "markdown",
   "metadata": {},
   "source": [
    "Given an array of integers nums which is sorted in ascending order, and an integer target, write a function to search target in nums. If target exists, then return its index. Otherwise, return -1.\n",
    "\n",
    "You must write an algorithm with O(log n) runtime complexity."
   ]
  },
  {
   "cell_type": "code",
   "execution_count": 16,
   "metadata": {},
   "outputs": [
    {
     "data": {
      "text/plain": [
       "1"
      ]
     },
     "execution_count": 16,
     "metadata": {},
     "output_type": "execute_result"
    }
   ],
   "source": [
    "# MicroSoft\n",
    "\n",
    "nums = [-1,0,3,5,9,12]; target = 0\n",
    "\n",
    "def bin_search(nums, target):\n",
    "    left, right = 0, len(nums) - 1\n",
    "    while left <= right:\n",
    "        # mid = len(nums)//2  This will overflow the integer value\n",
    "        mid = left + ((right - left)//2) # To avoid the overflow of integers, usually occurs in C++ and Java, not in python\n",
    "        if target > nums[mid]:\n",
    "            left = mid + 1\n",
    "        elif target < nums[mid]:\n",
    "            right = mid - 1 \n",
    "        else: \n",
    "            return mid\n",
    "    return -1\n",
    "\n",
    "bin_search(nums, target)"
   ]
  },
  {
   "cell_type": "code",
   "execution_count": 8,
   "metadata": {},
   "outputs": [],
   "source": [
    "matrix = [[1,3,5,7],[10,11,16,20],[23,30,34,60]]; target = 1\n",
    "\n",
    "# O(n^2)\n",
    "def searchmatrix(matrix, target):\n",
    "    for i in matrix:\n",
    "        for j in i:\n",
    "            if j == target:\n",
    "                return True\n",
    "    return False"
   ]
  },
  {
   "cell_type": "markdown",
   "metadata": {},
   "source": [
    "Koko loves to eat bananas. There are n piles of bananas, the ith pile has piles[i] bananas. The guards have gone and will come back in h hours.\n",
    "\n",
    "Koko can decide her bananas-per-hour eating speed of k. Each hour, she chooses some pile of bananas and eats k bananas from that pile. If the pile has less than k bananas, she eats all of them instead and will not eat any more bananas during this hour.\n",
    "\n",
    "Koko likes to eat slowly but still wants to finish eating all the bananas before the guards return.\n",
    "\n",
    "Return the minimum integer k such that she can eat all the bananas within h hours."
   ]
  },
  {
   "cell_type": "code",
   "execution_count": 18,
   "metadata": {},
   "outputs": [
    {
     "name": "stdout",
     "output_type": "stream",
     "text": [
      "Left 1 Right 30 Result 30\n",
      "30\n"
     ]
    }
   ],
   "source": [
    "import math\n",
    "\n",
    "piles = [30,11,23,4,20]; h = 5\n",
    "left, right = 1, max(piles)\n",
    "result = right\n",
    "print(\"Left\", left, \"Right\",right, \"Result\",result)\n",
    "\n",
    "while left <= right:\n",
    "    min_speed = (left + right) // 2\n",
    "    totaltime = 0\n",
    "    \n",
    "    for p in piles:\n",
    "        totaltime += math.ceil(float(p)/min_speed)\n",
    "    \n",
    "    if totaltime <= h:\n",
    "        result = min_speed\n",
    "        right = min_speed - 1\n",
    "    else:\n",
    "        left = min_speed + 1\n",
    "        \n",
    "print(result)"
   ]
  },
  {
   "cell_type": "code",
   "execution_count": 20,
   "metadata": {},
   "outputs": [
    {
     "name": "stdout",
     "output_type": "stream",
     "text": [
      "30 23\n"
     ]
    }
   ],
   "source": [
    "# O(NLogM)\n",
    "def min_eating_speed(piles, h):\n",
    "    left, right = 1, max(piles)\n",
    "    result = right\n",
    "    \n",
    "    while left <= right:\n",
    "        k = (left + right) // 2\n",
    "        totaltime = 0\n",
    "        \n",
    "        for p in piles:\n",
    "            totaltime += math.ceil(float(p)/k)\n",
    "            \n",
    "        if totaltime <= h:\n",
    "            result = k\n",
    "            right = k - 1\n",
    "        else:\n",
    "            left = k + 1\n",
    "    return result\n",
    "\n",
    "print(min_eating_speed(piles = [30,11,23,4,20], h = 5), min_eating_speed(piles = [30,11,23,4,20], h = 6))"
   ]
  },
  {
   "cell_type": "code",
   "execution_count": null,
   "metadata": {},
   "outputs": [],
   "source": []
  }
 ],
 "metadata": {
  "kernelspec": {
   "display_name": "venv",
   "language": "python",
   "name": "python3"
  },
  "language_info": {
   "codemirror_mode": {
    "name": "ipython",
    "version": 3
   },
   "file_extension": ".py",
   "mimetype": "text/x-python",
   "name": "python",
   "nbconvert_exporter": "python",
   "pygments_lexer": "ipython3",
   "version": "3.11.8"
  }
 },
 "nbformat": 4,
 "nbformat_minor": 2
}
