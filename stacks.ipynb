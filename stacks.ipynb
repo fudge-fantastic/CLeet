{
 "cells": [
  {
   "cell_type": "code",
   "execution_count": 8,
   "metadata": {},
   "outputs": [
    {
     "name": "stdout",
     "output_type": "stream",
     "text": [
      "True True False\n"
     ]
    }
   ],
   "source": [
    "# Valid Paranthesis\n",
    "\n",
    "s = \"()[]{}\"\n",
    "\n",
    "def valid_parenthesis(s):\n",
    "    close2open = {\")\":\"(\", \"]\":\"[\", \"}\":\"{\"}\n",
    "    stack = []\n",
    "    for i in s:\n",
    "        if i in close2open:\n",
    "            # If stack not empty \n",
    "            if stack and stack[-1] == close2open[i]: stack.pop()\n",
    "            else: return False\n",
    "        else: \n",
    "            stack.append(i)\n",
    "            \n",
    "    return True if not stack else False\n",
    "\n",
    "print(valid_parenthesis(s), valid_parenthesis(\"[[[{()}]]]\"), valid_parenthesis(\"[[[{()}])]\"))"
   ]
  },
  {
   "cell_type": "code",
   "execution_count": null,
   "metadata": {},
   "outputs": [],
   "source": [
    "# Amazon"
   ]
  }
 ],
 "metadata": {
  "kernelspec": {
   "display_name": "venv",
   "language": "python",
   "name": "python3"
  },
  "language_info": {
   "codemirror_mode": {
    "name": "ipython",
    "version": 3
   },
   "file_extension": ".py",
   "mimetype": "text/x-python",
   "name": "python",
   "nbconvert_exporter": "python",
   "pygments_lexer": "ipython3",
   "version": "3.11.8"
  }
 },
 "nbformat": 4,
 "nbformat_minor": 2
}
