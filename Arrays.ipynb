{
 "cells": [
  {
   "cell_type": "markdown",
   "metadata": {},
   "source": [
    "#### Valid Anagrams"
   ]
  },
  {
   "cell_type": "code",
   "execution_count": 115,
   "metadata": {},
   "outputs": [
    {
     "name": "stdout",
     "output_type": "stream",
     "text": [
      "True\n",
      "False\n",
      "True\n"
     ]
    }
   ],
   "source": [
    "# Check if anagrams\n",
    "s = \"A gentleman\"; t = \"Elegant MaN\"\n",
    "a = \"The eyes\"; b = \"They sees\"\n",
    "c = \"The Morse Code\"; d = \"here come dots\"\n",
    "def ifanagram(s, t):\n",
    "    return sorted(s.lower()) == sorted(t.lower())\n",
    "\n",
    "print(ifanagram(s,t))\n",
    "print(ifanagram(a,b))\n",
    "print(ifanagram(c,d))"
   ]
  },
  {
   "cell_type": "markdown",
   "metadata": {},
   "source": [
    "#### Group Anagrams"
   ]
  },
  {
   "cell_type": "code",
   "execution_count": 116,
   "metadata": {},
   "outputs": [
    {
     "name": "stdout",
     "output_type": "stream",
     "text": [
      "{'aet': ['eat']}\n",
      "{'aet': ['eat', 'tea']}\n",
      "{'aet': ['eat', 'tea'], 'ant': ['tan']}\n",
      "{'aet': ['eat', 'tea', 'ate'], 'ant': ['tan']}\n",
      "{'aet': ['eat', 'tea', 'ate'], 'ant': ['tan', 'nat']}\n",
      "{'aet': ['eat', 'tea', 'ate'], 'ant': ['tan', 'nat'], 'abt': ['bat']}\n",
      "[['eat', 'tea', 'ate'], ['tan', 'nat'], ['bat']]\n"
     ]
    }
   ],
   "source": [
    "# Grouping anagrams\n",
    "strs = [\"eat\",\"tea\",\"tan\",\"ate\",\"nat\",\"bat\"]\n",
    "\n",
    "anagram = {}\n",
    "for i in strs:\n",
    "    sorted_strs = ''.join(sorted(i))\n",
    "    # print(sorted_strs)\n",
    "    if sorted_strs in anagram:\n",
    "        anagram[sorted_strs].append(i)\n",
    "        print(anagram)\n",
    "    else:\n",
    "        anagram[sorted_strs] = [i]\n",
    "        print(anagram)\n",
    "print(list(anagram.values()))"
   ]
  },
  {
   "cell_type": "code",
   "execution_count": 117,
   "metadata": {},
   "outputs": [
    {
     "name": "stdout",
     "output_type": "stream",
     "text": [
      "['a', 'e', 't']\n",
      "aet: acceptable\n",
      "['a', 'e', 't']\n",
      "aet: acceptable\n",
      "['a', 'n', 't']\n",
      "ant: acceptable\n",
      "['a', 'e', 't']\n",
      "aet: acceptable\n",
      "['a', 'n', 't']\n",
      "ant: acceptable\n",
      "['a', 'b', 't']\n",
      "abt: acceptable\n"
     ]
    }
   ],
   "source": [
    "# The reason to use ''.join(sorted(i))\n",
    "for i in strs:\n",
    "    sorted_strs = sorted(i)\n",
    "    sorted_strs_using_join = ''.join(sorted(i))\n",
    "    print(f\"{sorted_strs}\")\n",
    "    print(f\"{sorted_strs_using_join}: acceptable\")"
   ]
  },
  {
   "cell_type": "markdown",
   "metadata": {},
   "source": [
    "#### Top K elements"
   ]
  },
  {
   "cell_type": "code",
   "execution_count": 118,
   "metadata": {},
   "outputs": [
    {
     "name": "stdout",
     "output_type": "stream",
     "text": [
      "Counter({1: 3, 3: 3, 2: 2, 5: 2, 4: 1})\n"
     ]
    }
   ],
   "source": [
    "from collections import Counter\n",
    "nums = [1,1,1,2,2,3,3,3,4,5,5]\n",
    "count = Counter(nums); print(count)\n",
    "# print(freq.values)"
   ]
  },
  {
   "cell_type": "code",
   "execution_count": 119,
   "metadata": {},
   "outputs": [
    {
     "name": "stdout",
     "output_type": "stream",
     "text": [
      "dict_items([(1, 3), (2, 2), (3, 3), (4, 1), (5, 2)])\n",
      "[(1, 3), (2, 2), (3, 3), (4, 1), (5, 2)]\n",
      "{1: 3, 2: 2, 3: 3, 4: 1, 5: 2}\n",
      "{1: 3, 3: 3, 2: 2, 5: 2, 4: 1}\n",
      "Frequency keys: dict_keys([1, 2, 3, 4, 5]), Turned it into list: [1, 2, 3, 4, 5]\n"
     ]
    }
   ],
   "source": [
    "frequency = {}\n",
    "# Dry - Run the code if confused\n",
    "for i in nums:\n",
    "    if i not in frequency:\n",
    "        # Setting index's value as 1\n",
    "        frequency[i] = 1\n",
    "    elif i in frequency:\n",
    "        # If index is already present in the dictionary, then increment the value by 1\n",
    "        frequency[i] += 1\n",
    "\n",
    "\n",
    "\n",
    "# frequency2 = dict(sorted)\n",
    "fi = frequency.items()\n",
    "print(fi)\n",
    "print(sorted(fi))\n",
    "print(dict(sorted(frequency.items()))) # = lambda X:X[1],reverse=True)))\n",
    "print(dict(sorted(frequency.items(), key = lambda X:X[1],reverse=True)))\n",
    "print(f\"Frequency keys: {frequency.keys()}, Turned it into list: {list(frequency.keys())}\")\n",
    "# print(frequency)"
   ]
  },
  {
   "cell_type": "markdown",
   "metadata": {},
   "source": [
    "Running Loop: for index in nums\n",
    "- if index (0:1) not in frequency {} (which is true) ---> frequency[index] = 1\n",
    "- {1:1}\n",
    "- if index in frequency {1:1} (which is true) ---> frequency[index] += 1\n",
    "- {1:2} ---> {1:3}\n",
    "- if index (3:2) not in frequency {1:3} (which is true) ---> frequency[index] = 1\n",
    "- {1:3, 2:1} ---> {1:3, 2:2} "
   ]
  },
  {
   "cell_type": "code",
   "execution_count": 121,
   "metadata": {},
   "outputs": [
    {
     "name": "stdout",
     "output_type": "stream",
     "text": [
      "[1, 1, 1, 2, 2, 3, 3, 3, 4, 5, 5]\n",
      "[1, 3, 2]\n"
     ]
    }
   ],
   "source": [
    "def find_best_freq(nums, k):\n",
    "    hast = {}\n",
    "    for i in nums:\n",
    "        if i not in hast: hast[i] = 1\n",
    "        elif i in hast: hast[i] += 1\n",
    "\n",
    "    hast = dict(sorted(hast.items(), key=lambda x : x[1], reverse=True))\n",
    "    res = list(hast.keys())[:k]\n",
    "    return res\n",
    "\n",
    "print(nums)\n",
    "print(find_best_freq(nums, 3))"
   ]
  },
  {
   "cell_type": "code",
   "execution_count": null,
   "metadata": {},
   "outputs": [],
   "source": []
  }
 ],
 "metadata": {
  "kernelspec": {
   "display_name": "Python 3",
   "language": "python",
   "name": "python3"
  },
  "language_info": {
   "codemirror_mode": {
    "name": "ipython",
    "version": 3
   },
   "file_extension": ".py",
   "mimetype": "text/x-python",
   "name": "python",
   "nbconvert_exporter": "python",
   "pygments_lexer": "ipython3",
   "version": "3.11.9"
  }
 },
 "nbformat": 4,
 "nbformat_minor": 2
}
