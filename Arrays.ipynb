{
 "cells": [
  {
   "cell_type": "markdown",
   "metadata": {},
   "source": [
    "#### Valid Anagrams"
   ]
  },
  {
   "cell_type": "code",
   "execution_count": 7,
   "metadata": {},
   "outputs": [
    {
     "name": "stdout",
     "output_type": "stream",
     "text": [
      "True\n",
      "False\n",
      "True\n"
     ]
    }
   ],
   "source": [
    "# Check if anagrams\n",
    "s = \"A gentleman\"; t = \"Elegant MaN\"\n",
    "a = \"The eyes\"; b = \"They sees\"\n",
    "c = \"The Morse Code\"; d = \"here come dots\"\n",
    "def ifanagram(s, t):\n",
    "    return sorted(s.lower()) == sorted(t.lower())\n",
    "\n",
    "print(ifanagram(s,t))\n",
    "print(ifanagram(a,b))\n",
    "print(ifanagram(c,d))"
   ]
  },
  {
   "cell_type": "markdown",
   "metadata": {},
   "source": [
    "#### Group Anagrams"
   ]
  },
  {
   "cell_type": "code",
   "execution_count": 8,
   "metadata": {},
   "outputs": [
    {
     "name": "stdout",
     "output_type": "stream",
     "text": [
      "{'aet': ['eat']}\n",
      "{'aet': ['eat', 'tea']}\n",
      "{'aet': ['eat', 'tea'], 'ant': ['tan']}\n",
      "{'aet': ['eat', 'tea', 'ate'], 'ant': ['tan']}\n",
      "{'aet': ['eat', 'tea', 'ate'], 'ant': ['tan', 'nat']}\n",
      "{'aet': ['eat', 'tea', 'ate'], 'ant': ['tan', 'nat'], 'abt': ['bat']}\n",
      "[['eat', 'tea', 'ate'], ['tan', 'nat'], ['bat']]\n"
     ]
    }
   ],
   "source": [
    "# Grouping anagrams\n",
    "strs = [\"eat\",\"tea\",\"tan\",\"ate\",\"nat\",\"bat\"]\n",
    "\n",
    "anagram = {}\n",
    "for i in strs:\n",
    "    sorted_strs = ''.join(sorted(i))\n",
    "    # print(sorted_strs)\n",
    "    if sorted_strs in anagram:\n",
    "        anagram[sorted_strs].append(i)\n",
    "        print(anagram)\n",
    "    else:\n",
    "        anagram[sorted_strs] = [i]\n",
    "        print(anagram)\n",
    "print(list(anagram.values()))"
   ]
  },
  {
   "cell_type": "code",
   "execution_count": 9,
   "metadata": {},
   "outputs": [
    {
     "name": "stdout",
     "output_type": "stream",
     "text": [
      "['a', 'e', 't']\n",
      "aet: acceptable\n",
      "['a', 'e', 't']\n",
      "aet: acceptable\n",
      "['a', 'n', 't']\n",
      "ant: acceptable\n",
      "['a', 'e', 't']\n",
      "aet: acceptable\n",
      "['a', 'n', 't']\n",
      "ant: acceptable\n",
      "['a', 'b', 't']\n",
      "abt: acceptable\n"
     ]
    }
   ],
   "source": [
    "# The reason to use ''.join(sorted(i))\n",
    "for i in strs:\n",
    "    sorted_strs = sorted(i)\n",
    "    sorted_strs_using_join = ''.join(sorted(i))\n",
    "    print(f\"{sorted_strs}\")\n",
    "    print(f\"{sorted_strs_using_join}: acceptable\")"
   ]
  },
  {
   "cell_type": "markdown",
   "metadata": {},
   "source": [
    "#### Top K elements"
   ]
  },
  {
   "cell_type": "code",
   "execution_count": 10,
   "metadata": {},
   "outputs": [
    {
     "name": "stdout",
     "output_type": "stream",
     "text": [
      "Counter({1: 3, 3: 3, 2: 2, 5: 2, 4: 1})\n"
     ]
    }
   ],
   "source": [
    "from collections import Counter, defaultdict\n",
    "nums = [1,1,1,2,2,3,3,3,4,5,5]\n",
    "count = Counter(nums); print(count)\n",
    "# print(freq.values)"
   ]
  },
  {
   "cell_type": "code",
   "execution_count": 11,
   "metadata": {},
   "outputs": [
    {
     "name": "stdout",
     "output_type": "stream",
     "text": [
      "dict_items([(1, 3), (2, 2), (3, 3), (4, 1), (5, 2)])\n",
      "[(1, 3), (2, 2), (3, 3), (4, 1), (5, 2)]\n",
      "{1: 3, 2: 2, 3: 3, 4: 1, 5: 2}\n",
      "{1: 3, 3: 3, 2: 2, 5: 2, 4: 1}\n",
      "Frequency keys: dict_keys([1, 2, 3, 4, 5]), Turned it into list: [1, 2, 3, 4, 5]\n"
     ]
    }
   ],
   "source": [
    "frequency = {}\n",
    "# Dry - Run the code if confused\n",
    "for i in nums:\n",
    "    if i not in frequency:\n",
    "        # Setting index's value as 1\n",
    "        frequency[i] = 1\n",
    "    elif i in frequency:\n",
    "        # If index is already present in the dictionary, then increment the value by 1\n",
    "        frequency[i] += 1\n",
    "\n",
    "\n",
    "\n",
    "# frequency2 = dict(sorted)\n",
    "fi = frequency.items()\n",
    "print(fi)\n",
    "print(sorted(fi))\n",
    "print(dict(sorted(frequency.items()))) # = lambda X:X[1],reverse=True)))\n",
    "print(dict(sorted(frequency.items(), key = lambda X:X[1],reverse=True)))\n",
    "print(f\"Frequency keys: {frequency.keys()}, Turned it into list: {list(frequency.keys())}\")\n",
    "# print(frequency)"
   ]
  },
  {
   "cell_type": "markdown",
   "metadata": {},
   "source": [
    "```\n",
    "Running Loop: for index in nums\n",
    "- if index (0:1) not in frequency {} (which is true) ---> frequency[index] = 1 ---> {1:1}\n",
    "- if index in frequency {1:1} (which is true) ---> frequency[index] += 1 ---> {1:2} ---> {1:3}\n",
    "- if index (3:2) not in frequency {1:3} (which is true) ---> frequency[index] = 1\n",
    "- {1:3, 2:1} ---> {1:3, 2:2} \n",
    "```"
   ]
  },
  {
   "cell_type": "code",
   "execution_count": 12,
   "metadata": {},
   "outputs": [
    {
     "name": "stdout",
     "output_type": "stream",
     "text": [
      "Array: [1, 1, 1, 2, 2, 3, 3, 3, 4, 5, 5]\n",
      "Top unqiue values: [1, 3, 2, 5]\n"
     ]
    }
   ],
   "source": [
    "def find_best_freq(nums, k):\n",
    "    hast = {}\n",
    "    for i in nums:\n",
    "        if i not in hast: hast[i] = 1\n",
    "        elif i in hast: hast[i] += 1\n",
    "\n",
    "    hast = dict(sorted(hast.items(), key=lambda x : x[1], reverse=True))\n",
    "    res = list(hast.keys())[:k]\n",
    "    return res\n",
    "\n",
    "print(f\"Array: {nums}\")\n",
    "print(f\"Top unqiue values: {find_best_freq(nums, 4)}\")"
   ]
  },
  {
   "cell_type": "markdown",
   "metadata": {},
   "source": [
    "#### Product of Array Except Self"
   ]
  },
  {
   "cell_type": "code",
   "execution_count": 13,
   "metadata": {},
   "outputs": [
    {
     "name": "stdout",
     "output_type": "stream",
     "text": [
      "[0, 0, -9, 0, 0]\n",
      "[24, 12, 8, 6]\n"
     ]
    }
   ],
   "source": [
    "def prod_except_self(nums):\n",
    "    result = [1] * len(nums)\n",
    "    prefix, suffix = 1, 1\n",
    "\n",
    "    for i in range(len(nums)):\n",
    "        result[i] = result[i] * prefix\n",
    "        prefix = prefix * nums[i]\n",
    "\n",
    "        result[-i-1] *= suffix\n",
    "        suffix *= nums[-i-1]\n",
    "    \n",
    "    return result\n",
    "\n",
    "nums2 = [-1,-1,0, -3, 3]\n",
    "nums = [1,2,3,4]\n",
    "print(prod_except_self(nums2))\n",
    "print(prod_except_self(nums))"
   ]
  },
  {
   "cell_type": "markdown",
   "metadata": {},
   "source": [
    "#### Valid Sudoko"
   ]
  },
  {
   "cell_type": "code",
   "execution_count": 14,
   "metadata": {},
   "outputs": [],
   "source": [
    "def validSud(board):\n",
    "    cols, rows = defaultdict(set), defaultdict(set)\n",
    "    squares = defaultdict(set)  # key = (r / 3, c / 3)\n",
    "    \n",
    "    # 9x9 size board, with 3x3 sub-boxes of the grid \n",
    "    for r in range(9):\n",
    "        for c in range(9):\n",
    "            if board[r][c] == \".\": continue\n",
    "            if (board[r][c] in rows[r] or # Check if the current index-value exist in the dict-rows\n",
    "                board[r][c] in cols[c] or # Similarly for dict-cols\n",
    "                board[r][c] in squares[(r//3, c//3)]):\n",
    "                return False\n",
    "            # Update the board\n",
    "            cols[c].add(board[r][c])\n",
    "            rows[r].add(board[r][c])\n",
    "            squares[(r//3, c//3)].add(board[r][c])\n",
    "    return True"
   ]
  },
  {
   "cell_type": "markdown",
   "metadata": {},
   "source": [
    "__Dry-Run__\n",
    "```\n",
    "1. cols, rows and squares = {empty}\n",
    "2. r:c = {1:1}, if board[r][c]:board[1][1] = 5, in rows[r (is 1)]\n",
    "                if board[r][c]:board[1][1] = 5, in cols[c (is 1)]\n",
    "                Before proceeding: squares is a 3x3 grid (0,1,2)\n",
    "                if board[r][c]:board[1][1] = 5, in squares[r//3 (is 0)][c//3 (is 0)]\n",
    "                5 doesn't exist in any of em, so we update the board to step-by-step\n",
    "3. If taken note, we're just updating the board, but also checking if the number exist in the hash-set (rows, cols, \n",
    "   and squares). If it exists, we return False. If found no duplicates, the board gets completely updated and returns True"
   ]
  },
  {
   "cell_type": "code",
   "execution_count": 15,
   "metadata": {},
   "outputs": [
    {
     "name": "stdout",
     "output_type": "stream",
     "text": [
      "True\n",
      "False\n"
     ]
    }
   ],
   "source": [
    "board = [[\"5\",\"3\",\".\",\".\",\"7\",\".\",\".\",\".\",\".\"]\n",
    "        ,[\"6\",\".\",\".\",\"1\",\"9\",\"5\",\".\",\".\",\".\"]\n",
    "        ,[\".\",\"9\",\"8\",\".\",\".\",\".\",\".\",\"6\",\".\"]\n",
    "        ,[\"8\",\".\",\".\",\".\",\"6\",\".\",\".\",\".\",\"3\"]\n",
    "        ,[\"4\",\".\",\".\",\"8\",\".\",\"3\",\".\",\".\",\"1\"]\n",
    "        ,[\"7\",\".\",\".\",\".\",\"2\",\".\",\".\",\".\",\"6\"]\n",
    "        ,[\".\",\"6\",\".\",\".\",\".\",\".\",\"2\",\"8\",\".\"]\n",
    "        ,[\".\",\".\",\".\",\"4\",\"1\",\"9\",\".\",\".\",\"5\"]\n",
    "        ,[\".\",\".\",\".\",\".\",\"8\",\".\",\".\",\"7\",\"9\"]]\n",
    "\n",
    "board2 = [[\"8\",\"3\",\".\",\".\",\"7\",\".\",\".\",\".\",\".\"]\n",
    "        ,[\"6\",\".\",\".\",\"1\",\"9\",\"5\",\".\",\".\",\".\"]\n",
    "        ,[\".\",\"9\",\"8\",\".\",\".\",\".\",\".\",\"6\",\".\"]\n",
    "        ,[\"8\",\".\",\".\",\".\",\"6\",\".\",\".\",\".\",\"3\"]\n",
    "        ,[\"4\",\".\",\".\",\"8\",\".\",\"3\",\".\",\".\",\"1\"]\n",
    "        ,[\"7\",\".\",\".\",\".\",\"2\",\".\",\".\",\".\",\"6\"]\n",
    "        ,[\".\",\"6\",\".\",\".\",\".\",\".\",\"2\",\"8\",\".\"]\n",
    "        ,[\".\",\".\",\".\",\"4\",\"1\",\"9\",\".\",\".\",\"5\"]\n",
    "        ,[\".\",\".\",\".\",\".\",\"8\",\".\",\".\",\"7\",\"9\"]]\n",
    "print(validSud(board))\n",
    "print(validSud(board2))"
   ]
  },
  {
   "cell_type": "markdown",
   "metadata": {},
   "source": [
    "#### Longest Consecutive Sequence"
   ]
  },
  {
   "cell_type": "code",
   "execution_count": 16,
   "metadata": {},
   "outputs": [
    {
     "name": "stdout",
     "output_type": "stream",
     "text": [
      "[1, 2, 3, 4, 100, 200] 6\n",
      "[0, 1, 2, 3, 4, 5, 6, 7, 8] 9\n"
     ]
    }
   ],
   "source": [
    "nums = [100,4,200,1,3,2]\n",
    "nums = sorted(nums)\n",
    "nums_2 = [0,3,7,2,5,8,4,6,0,1]\n",
    "nums_2 = sorted(list(set(nums_2)))\n",
    "print(nums, len(nums))\n",
    "print(nums_2, len(nums_2))"
   ]
  },
  {
   "cell_type": "code",
   "execution_count": 17,
   "metadata": {},
   "outputs": [
    {
     "name": "stdout",
     "output_type": "stream",
     "text": [
      "4\n"
     ]
    }
   ],
   "source": [
    "nums = [100,4,200,1,3,2]\n",
    "uniques = (set(nums))\n",
    "longest = 0\n",
    "\n",
    "for i in nums:\n",
    "    if (i-1) not in uniques:\n",
    "        current_num = 1\n",
    "        while (i + current_num) in uniques:\n",
    "            current_num += 1\n",
    "        longest = max(current_num, longest)\n",
    "print(longest)"
   ]
  },
  {
   "cell_type": "code",
   "execution_count": 18,
   "metadata": {},
   "outputs": [
    {
     "name": "stdout",
     "output_type": "stream",
     "text": [
      "Unique set: {1, 2, 3, 100, 4, 200}\n"
     ]
    },
    {
     "data": {
      "text/plain": [
       "4"
      ]
     },
     "execution_count": 18,
     "metadata": {},
     "output_type": "execute_result"
    }
   ],
   "source": [
    "def find_long_seq(nums):\n",
    "    uniques = set(nums)\n",
    "    print(f\"Unique set: {uniques}\")\n",
    "    longest = 0\n",
    "    for i in nums:\n",
    "        if (i - 1) not in uniques:\n",
    "            current_num = 1\n",
    "            while (i + current_num) in uniques:\n",
    "                current_num += 1\n",
    "            longest = max(current_num, longest)\n",
    "    return longest\n",
    "\n",
    "find_long_seq(nums)"
   ]
  },
  {
   "cell_type": "code",
   "execution_count": 19,
   "metadata": {},
   "outputs": [
    {
     "name": "stdout",
     "output_type": "stream",
     "text": [
      "4\n"
     ]
    }
   ],
   "source": [
    "# Number of good pairs\n",
    "nums = [1,2,3,1,1,3]\n",
    "sorted_nums = sorted(nums)\n",
    "count = 0\n",
    "for i in range(len(sorted_nums)):\n",
    "    for j in range(i+1, len(sorted_nums)):\n",
    "        if sorted_nums[i] == sorted_nums[j]:\n",
    "            count += 1\n",
    "print(count)"
   ]
  },
  {
   "cell_type": "code",
   "execution_count": 20,
   "metadata": {},
   "outputs": [
    {
     "name": "stdout",
     "output_type": "stream",
     "text": [
      "[0, 1, 3, 6]\n"
     ]
    }
   ],
   "source": [
    "# If character exist in the list (grab the index)\n",
    "words = [\"leet\",\"code\", \"bot\", \"net\", \"caught\", \"brougth\", \"neat\"]\n",
    "res = []\n",
    "x = 'e'\n",
    "for i in range(len(words)):\n",
    "    if x in words[i]: res.append(i)\n",
    "print(res)"
   ]
  }
 ],
 "metadata": {
  "kernelspec": {
   "display_name": "Python 3",
   "language": "python",
   "name": "python3"
  },
  "language_info": {
   "codemirror_mode": {
    "name": "ipython",
    "version": 3
   },
   "file_extension": ".py",
   "mimetype": "text/x-python",
   "name": "python",
   "nbconvert_exporter": "python",
   "pygments_lexer": "ipython3",
   "version": "3.11.9"
  }
 },
 "nbformat": 4,
 "nbformat_minor": 2
}
